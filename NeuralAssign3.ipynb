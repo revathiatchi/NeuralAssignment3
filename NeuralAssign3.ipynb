{
 "cells": [
  {
   "cell_type": "code",
   "execution_count": 9,
   "metadata": {},
   "outputs": [
    {
     "name": "stdout",
     "output_type": "stream",
     "text": [
      "Total number of employees: 4\n",
      "\n",
      "Average salary of all employees: $29250.00\n",
      "\n",
      "Employee Information:\n",
      "Name: Revathi\n",
      "Family: A\n",
      "Salary: $48000\n",
      "Department: HR\n",
      "\n",
      "\n",
      "Name: Prudhvi\n",
      "Family: V\n",
      "Salary: $10000\n",
      "Department: Finance\n",
      "\n",
      "\n",
      "Name: Raj\n",
      "Family: D\n",
      "Salary: $38000\n",
      "Department: Marketing\n",
      "\n",
      "\n",
      "Name: Vasu\n",
      "Family: A\n",
      "Salary: $21000\n",
      "Department: Sales\n"
     ]
    }
   ],
   "source": [
    "class Employee:\n",
    "    num_employees = 0  #Creating a data member to count the number of Employees.\n",
    "    def __init__(self, name, family, salary, department): #Creating a constructor to initialize name, family, salary, department\n",
    "        self.name = name\n",
    "        self.family = family\n",
    "        self.salary = salary\n",
    "        self.department = department\n",
    "        Employee.num_employees += 1  #Count the employees\n",
    "\n",
    "    @staticmethod\n",
    "    def average_salary(employees):  #Creating a function to average salary.\n",
    "        total_salary = sum(employee.salary for employee in employees)\n",
    "        return total_salary / len(employees) if len(employees) > 0 else 0\n",
    "\n",
    "    def display_employee_info(self):\n",
    "      print(f\"Name: {self.name}\")\n",
    "      print(f\"Family: {self.family}\")\n",
    "      print(f\"Salary: ${self.salary}\")\n",
    "      print(f\"Department: {self.department}\")\n",
    "\n",
    "class FulltimeEmployee(Employee): #Creating a Fulltime Employee class and it should inherit the properties of Employee class\n",
    "    def __init__(self, name, family, salary, department):\n",
    "        super().__init__(name, family, salary, department)\n",
    "\n",
    "    def display_employee_info(self):\n",
    "        super().display_employee_info()\n",
    "\n",
    "# Create instances of Employee class\n",
    "employee1 = Employee(\"Revathi\", \"A\", 48000, \"HR\")\n",
    "employee2 = Employee(\"Prudhvi\", \"V\", 10000, \"Finance\")\n",
    "\n",
    "# Create instances of FulltimeEmployee class\n",
    "fulltime_employee1 = FulltimeEmployee(\"Raj\", \"D\", 38000, \"Marketing\")\n",
    "fulltime_employee2 = FulltimeEmployee(\"Vasu\", \"A\", 21000, \"Sales\")\n",
    "\n",
    "# Calculate the average salary of all employees\n",
    "all_employees = [employee1, employee2, fulltime_employee1, fulltime_employee2]\n",
    "avg_salary = Employee.average_salary(all_employees)\n",
    "\n",
    "# Print the number of employees and the average salary\n",
    "print(f\"Total number of employees: {Employee.num_employees}\\n\")\n",
    "print(f\"Average salary of all employees: ${avg_salary:.2f}\\n\")\n",
    "\n",
    "# Call member functions to display employee information\n",
    "print(\"Employee Information:\")\n",
    "employee1.display_employee_info()\n",
    "print(\"\\n\")\n",
    "employee2.display_employee_info()\n",
    "print(\"\\n\")\n",
    "fulltime_employee1.display_employee_info()\n",
    "print(\"\\n\")\n",
    "fulltime_employee2.display_employee_info()"
   ]
  },
  {
   "cell_type": "code",
   "execution_count": 10,
   "metadata": {},
   "outputs": [
    {
     "name": "stdout",
     "output_type": "stream",
     "text": [
      "Numbers range from 1 to 20:- \n",
      " [ 1.  2.  3.  4.  5.  6.  7.  8.  9. 10. 11. 12. 13. 14. 15. 16. 17. 18.\n",
      " 19. 20.]\n",
      "\n",
      "Reshape:- \n",
      " [[ 1.  2.  3.  4.  5.]\n",
      " [ 6.  7.  8.  9. 10.]\n",
      " [11. 12. 13. 14. 15.]\n",
      " [16. 17. 18. 19. 20.]]\n",
      "\n",
      "Replace max value with 0:- \n",
      " [[ 1.  2.  3.  4.  0.]\n",
      " [ 6.  7.  8.  9.  0.]\n",
      " [11. 12. 13. 14.  0.]\n",
      " [16. 17. 18. 19.  0.]]\n"
     ]
    }
   ],
   "source": [
    "import numpy as np #importing numpy library\n",
    "\n",
    "x=np.arange(1,21,dtype=float) #Using NumPy create random vector of size 20 having only float in the range 1-20\n",
    "print(\"Numbers range from 1 to 20:- \\n\", x)\n",
    "\n",
    "y=x.reshape(4,5) #reshape the array to 4 by 5\n",
    "print(\"\\nReshape:- \\n\", y)\n",
    "\n",
    "z=np.where(np.isin(y, y.max(axis=1)), 0, y)  #replace the max in each row by 0 (axis=1)\n",
    "print(\"\\nReplace max value with 0:- \\n\", z)"
   ]
  }
 ],
 "metadata": {
  "kernelspec": {
   "display_name": "Python 3",
   "language": "python",
   "name": "python3"
  },
  "language_info": {
   "codemirror_mode": {
    "name": "ipython",
    "version": 3
   },
   "file_extension": ".py",
   "mimetype": "text/x-python",
   "name": "python",
   "nbconvert_exporter": "python",
   "pygments_lexer": "ipython3",
   "version": "3.11.1"
  }
 },
 "nbformat": 4,
 "nbformat_minor": 2
}
